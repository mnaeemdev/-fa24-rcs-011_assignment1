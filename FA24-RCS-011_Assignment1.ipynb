{
 "cells": [
  {
   "cell_type": "markdown",
   "id": "f9b94068-ea2b-49d6-a5a4-9daf1a0c2080",
   "metadata": {},
   "source": [
    "# Machine Learning First Heading"
   ]
  },
  {
   "cell_type": "markdown",
   "id": "6d460963-7812-4893-ad0e-1bf9d2ec1233",
   "metadata": {},
   "source": [
    "## Task 1: Lists, Dictionaries, Tuples"
   ]
  },
  {
   "cell_type": "markdown",
   "id": "63d4b083-f93e-4aa3-8af2-1752523219b4",
   "metadata": {},
   "source": [
    "### **Lists**"
   ]
  },
  {
   "cell_type": "code",
   "execution_count": 1,
   "id": "2601637a-3b06-4332-978d-2ed941ece5c9",
   "metadata": {},
   "outputs": [],
   "source": [
    "nums = [3,5,7,8,12]"
   ]
  },
  {
   "cell_type": "code",
   "execution_count": 2,
   "id": "25bb5839-603d-49d2-81ab-da196d21e92e",
   "metadata": {},
   "outputs": [],
   "source": [
    "cubes = []"
   ]
  },
  {
   "cell_type": "code",
   "execution_count": 3,
   "id": "5fb61433-30ef-4d9b-9072-b555409f27d9",
   "metadata": {},
   "outputs": [],
   "source": [
    "for x in nums:\n",
    "    item = x**3\n",
    "    cubes.append(item)"
   ]
  },
  {
   "cell_type": "code",
   "execution_count": 4,
   "id": "7e2e8422-8a33-4f94-9cef-d27e21bf6605",
   "metadata": {},
   "outputs": [
    {
     "name": "stdout",
     "output_type": "stream",
     "text": [
      "[27, 125, 343, 512, 1728]\n"
     ]
    }
   ],
   "source": [
    "print(cubes)"
   ]
  },
  {
   "cell_type": "code",
   "execution_count": 5,
   "id": "e0448fe2-c0d4-4485-a72b-c9bca6287f71",
   "metadata": {},
   "outputs": [],
   "source": [
    "nums.append(cubes)"
   ]
  },
  {
   "cell_type": "code",
   "execution_count": 6,
   "id": "14548575-baf1-4954-ab05-431e7310613e",
   "metadata": {},
   "outputs": [
    {
     "name": "stdout",
     "output_type": "stream",
     "text": [
      "[3, 5, 7, 8, 12, [27, 125, 343, 512, 1728]]\n"
     ]
    }
   ],
   "source": [
    "print(nums)"
   ]
  },
  {
   "cell_type": "markdown",
   "id": "9e1a38ac-e4b1-47d7-bdca-44d21986a55e",
   "metadata": {},
   "source": [
    "### **Dictionary**"
   ]
  },
  {
   "cell_type": "code",
   "execution_count": 7,
   "id": "27e4f4dc-e656-438b-a6e3-3c403dd94b5e",
   "metadata": {},
   "outputs": [],
   "source": [
    "dict = {}"
   ]
  },
  {
   "cell_type": "code",
   "execution_count": 8,
   "id": "7c00d89d-6e48-4098-aaa2-7a2091899ee3",
   "metadata": {},
   "outputs": [],
   "source": [
    "dict[\"parrot\"] = 2"
   ]
  },
  {
   "cell_type": "code",
   "execution_count": 9,
   "id": "d9df5cb2-8ad2-4f69-8bdd-32b5de5bffba",
   "metadata": {},
   "outputs": [],
   "source": [
    "dict[\"goat\"] = 4"
   ]
  },
  {
   "cell_type": "code",
   "execution_count": 10,
   "id": "aa8cd62d-4265-482c-8298-498f6f2befac",
   "metadata": {},
   "outputs": [],
   "source": [
    "dict[\"spider\"] = 8"
   ]
  },
  {
   "cell_type": "code",
   "execution_count": 11,
   "id": "99ce83be-e7ca-4bd6-bb5e-e34935ac2414",
   "metadata": {},
   "outputs": [],
   "source": [
    "dict[\"crab\"] = 10"
   ]
  },
  {
   "cell_type": "code",
   "execution_count": 12,
   "id": "f7b24ab9-6ddb-4368-847a-4e48b83f9b9e",
   "metadata": {},
   "outputs": [
    {
     "name": "stdout",
     "output_type": "stream",
     "text": [
      "{'parrot': 2, 'goat': 4, 'spider': 8, 'crab': 10}\n"
     ]
    }
   ],
   "source": [
    "print(dict)"
   ]
  },
  {
   "cell_type": "code",
   "execution_count": 13,
   "id": "904b33fc-a176-4a80-b026-ee17b2587a47",
   "metadata": {},
   "outputs": [],
   "source": [
    "dictItems = dict.items()"
   ]
  },
  {
   "cell_type": "code",
   "execution_count": 14,
   "id": "c19e7d24-55aa-4e6f-9bdd-37a64fba4e2a",
   "metadata": {},
   "outputs": [
    {
     "name": "stdout",
     "output_type": "stream",
     "text": [
      "dict_items([('parrot', 2), ('goat', 4), ('spider', 8), ('crab', 10)])\n"
     ]
    }
   ],
   "source": [
    "print(dictItems)"
   ]
  },
  {
   "cell_type": "code",
   "execution_count": 15,
   "id": "aae73136-da4a-4eae-b475-0639761c9f54",
   "metadata": {},
   "outputs": [],
   "source": [
    "#for animal, legs in dict.items():\n",
    "    #print(f\"The {animal} has {legs}.\")"
   ]
  },
  {
   "cell_type": "code",
   "execution_count": 16,
   "id": "e2767540-7c1d-4faf-9967-b741fb286ed2",
   "metadata": {},
   "outputs": [],
   "source": [
    "#Sum of legs"
   ]
  },
  {
   "cell_type": "code",
   "execution_count": 17,
   "id": "6ebe11a7-488b-495e-b3ab-00d42736b142",
   "metadata": {},
   "outputs": [
    {
     "name": "stdout",
     "output_type": "stream",
     "text": [
      "The parrot has 2.\n",
      "The goat has 4.\n",
      "The spider has 8.\n",
      "The crab has 10.\n",
      "Total Legs of all the animals: 24.\n"
     ]
    }
   ],
   "source": [
    "total_legs = 0\n",
    "for animal, legs in dict.items():\n",
    "    print(f\"The {animal} has {legs}.\")\n",
    "    total_legs += legs\n",
    "print(f\"Total Legs of all the animals: {total_legs}.\")"
   ]
  },
  {
   "cell_type": "markdown",
   "id": "63bd4cbf-5a11-41b3-9f9f-08322e382b26",
   "metadata": {},
   "source": [
    "### **Tuple**"
   ]
  },
  {
   "cell_type": "code",
   "execution_count": 18,
   "id": "8b622a89-b49b-4469-857d-c1c9056998dc",
   "metadata": {},
   "outputs": [],
   "source": [
    "A = (3,9,4,[5,6])   #tuples are immutable but we can the the array elements in because array are mutable"
   ]
  },
  {
   "cell_type": "code",
   "execution_count": 19,
   "id": "49ce3bde-e9b4-4349-8643-3b00b644c774",
   "metadata": {},
   "outputs": [],
   "source": [
    "A[3][0] = 8"
   ]
  },
  {
   "cell_type": "code",
   "execution_count": 20,
   "id": "1042cc63-77ab-44aa-a3a0-fd3578b3f0ca",
   "metadata": {},
   "outputs": [
    {
     "name": "stdout",
     "output_type": "stream",
     "text": [
      "(3, 9, 4, [8, 6])\n"
     ]
    }
   ],
   "source": [
    "print(A)"
   ]
  },
  {
   "cell_type": "code",
   "execution_count": 21,
   "id": "b29390d3-0a36-4d1e-84fa-29015ab8e2a7",
   "metadata": {},
   "outputs": [],
   "source": [
    "del A"
   ]
  },
  {
   "cell_type": "code",
   "execution_count": 22,
   "id": "805bb5d4-958c-43bf-90d4-b7943ee66e90",
   "metadata": {},
   "outputs": [],
   "source": [
    "#print(A)"
   ]
  },
  {
   "cell_type": "code",
   "execution_count": 23,
   "id": "3e7056bf-6519-40d9-87f7-bf9e231f3ac0",
   "metadata": {},
   "outputs": [],
   "source": [
    "B = (\"a\", \"p\", \"p\", \"l\", \"e\")"
   ]
  },
  {
   "cell_type": "code",
   "execution_count": 24,
   "id": "2c6b1971-99f9-4f3e-9d9d-23be2d4f2801",
   "metadata": {},
   "outputs": [
    {
     "data": {
      "text/plain": [
       "2"
      ]
     },
     "execution_count": 24,
     "metadata": {},
     "output_type": "execute_result"
    }
   ],
   "source": [
    "B.count(\"p\")"
   ]
  },
  {
   "cell_type": "code",
   "execution_count": 25,
   "id": "b80e51c5-68ea-4a58-8f8f-656e97c664f2",
   "metadata": {},
   "outputs": [
    {
     "data": {
      "text/plain": [
       "3"
      ]
     },
     "execution_count": 25,
     "metadata": {},
     "output_type": "execute_result"
    }
   ],
   "source": [
    "B.index(\"l\")"
   ]
  },
  {
   "cell_type": "markdown",
   "id": "d7cbccba-f769-484f-84c9-ceac6a064836",
   "metadata": {},
   "source": [
    "## Task 2: Numpy"
   ]
  },
  {
   "cell_type": "code",
   "execution_count": 26,
   "id": "f373d9f3-d6a4-4db6-934c-124e0855c66d",
   "metadata": {},
   "outputs": [
    {
     "name": "stdout",
     "output_type": "stream",
     "text": [
      "Requirement already satisfied: numpy in c:\\users\\muham\\anaconda3\\lib\\site-packages (1.26.4)\n"
     ]
    }
   ],
   "source": [
    "!pip install numpy"
   ]
  },
  {
   "cell_type": "code",
   "execution_count": 27,
   "id": "ceaa2085-55c2-477a-899a-8bb038217108",
   "metadata": {},
   "outputs": [],
   "source": [
    "import numpy as np"
   ]
  },
  {
   "cell_type": "code",
   "execution_count": 28,
   "id": "65bd5a36-0bb0-45d7-83ea-2badfe0ef436",
   "metadata": {},
   "outputs": [],
   "source": [
    "A = ([1,2,3,4],[5,6,7,8],[9,10,11,12])"
   ]
  },
  {
   "cell_type": "code",
   "execution_count": 29,
   "id": "5978b85c-125f-480b-a00b-58f8beadd35b",
   "metadata": {},
   "outputs": [],
   "source": [
    "A_np = np.array(A) #Numpy Array"
   ]
  },
  {
   "cell_type": "code",
   "execution_count": 30,
   "id": "edea6cb2-493b-432c-8aa4-cefd1ea061bd",
   "metadata": {},
   "outputs": [],
   "source": [
    "b = A_np[:2, 1:3]"
   ]
  },
  {
   "cell_type": "code",
   "execution_count": 31,
   "id": "8d775c00-b23d-4b39-9cb1-390ae05e204b",
   "metadata": {},
   "outputs": [
    {
     "name": "stdout",
     "output_type": "stream",
     "text": [
      "[[2 3]\n",
      " [6 7]]\n"
     ]
    }
   ],
   "source": [
    "print(b)"
   ]
  },
  {
   "cell_type": "code",
   "execution_count": 32,
   "id": "78e14376-f024-4677-b518-e51830ee05ba",
   "metadata": {},
   "outputs": [
    {
     "name": "stdout",
     "output_type": "stream",
     "text": [
      "[[4128860 6029375 3801155 5570652]\n",
      " [6619251 7536754 7143516 6815861]\n",
      " [7143521 4259932 7340144 6357060]]\n"
     ]
    }
   ],
   "source": [
    "# Empty matrix C with the same shape as A\n",
    "C = np.empty(A_np.shape, dtype=int)\n",
    "# C = np.zero(A_np.shape)\n",
    "\n",
    "# Print matrix C\n",
    "print(C)"
   ]
  },
  {
   "cell_type": "code",
   "execution_count": 33,
   "id": "8b18511d-69f5-4379-b333-2ac7dca9d460",
   "metadata": {},
   "outputs": [],
   "source": [
    "z = np.array([1,0,1])"
   ]
  },
  {
   "cell_type": "code",
   "execution_count": 34,
   "id": "91f884d9-8586-4ac9-ab22-cad3e2668880",
   "metadata": {},
   "outputs": [],
   "source": [
    "for col in range(A_np.shape[1]):\n",
    "    C[:, col] = A_np[:, col] + z"
   ]
  },
  {
   "cell_type": "code",
   "execution_count": 37,
   "id": "870eb7a4-d73a-449d-80f9-650386295654",
   "metadata": {},
   "outputs": [
    {
     "name": "stdout",
     "output_type": "stream",
     "text": [
      "Matrix A:\n",
      "[[ 1  2  3  4]\n",
      " [ 5  6  7  8]\n",
      " [ 9 10 11 12]]\n"
     ]
    }
   ],
   "source": [
    "print(\"Matrix A:\")\n",
    "print(A_np)"
   ]
  },
  {
   "cell_type": "code",
   "execution_count": 36,
   "id": "432510f5-f030-417f-a42d-b7b1c6d5e75e",
   "metadata": {},
   "outputs": [
    {
     "name": "stdout",
     "output_type": "stream",
     "text": [
      "Matrix C (A + z added to each column):\n",
      "[[ 2  3  4  5]\n",
      " [ 5  6  7  8]\n",
      " [10 11 12 13]]\n"
     ]
    }
   ],
   "source": [
    "print(\"Matrix C (A + z added to each column):\")\n",
    "print(C)"
   ]
  },
  {
   "cell_type": "code",
   "execution_count": 38,
   "id": "b85206d0-b04a-428c-97a0-2072aa9a5d35",
   "metadata": {},
   "outputs": [],
   "source": [
    "#New Numpy Arrays"
   ]
  },
  {
   "cell_type": "code",
   "execution_count": 39,
   "id": "1aa0df7d-2b65-43a6-957e-290b2c8d684d",
   "metadata": {},
   "outputs": [],
   "source": [
    "X = np.array([[1,2],[3,4]])\n",
    "Y = np.array([[5,6],[7,8]])"
   ]
  },
  {
   "cell_type": "code",
   "execution_count": 40,
   "id": "1adb6523-b039-41af-a749-310215966158",
   "metadata": {},
   "outputs": [],
   "source": [
    "v = np.array([9,10])"
   ]
  },
  {
   "cell_type": "code",
   "execution_count": 41,
   "id": "794e6645-2ff0-4b68-b770-2ce9b52d7e45",
   "metadata": {},
   "outputs": [
    {
     "name": "stdout",
     "output_type": "stream",
     "text": [
      "Sum of matrices X and Y: [[ 6  8]\n",
      " [10 12]]\n"
     ]
    }
   ],
   "source": [
    "# Add matrices X and Y\n",
    "sum_matrix = X + Y\n",
    "print(f\"Sum of matrices X and Y: {sum_matrix}\")"
   ]
  },
  {
   "cell_type": "code",
   "execution_count": 44,
   "id": "2af12ee1-9904-454d-b34d-91f8887b68d6",
   "metadata": {},
   "outputs": [
    {
     "name": "stdout",
     "output_type": "stream",
     "text": [
      "[[19 22]\n",
      " [43 50]]\n"
     ]
    }
   ],
   "source": [
    "# Multiply matrices X and Y\n",
    "product_matrix =  np.dot(X,Y)\n",
    "print(product_matrix)"
   ]
  },
  {
   "cell_type": "code",
   "execution_count": 50,
   "id": "c98a2aa6-2cff-436d-a163-666139e913f0",
   "metadata": {},
   "outputs": [
    {
     "name": "stdout",
     "output_type": "stream",
     "text": [
      "Element-wise square root of matrix Y: [[2.23606798 2.44948974]\n",
      " [2.64575131 2.82842712]]\n"
     ]
    }
   ],
   "source": [
    "# Compute the element-wise square root of matrix Y\n",
    "sqrt_Y = np.sqrt(Y)\n",
    "# sqrt_Y = np.floor(sqrt_Y).astype(int) #Round the Decimal values and then change the datatype to integer\n",
    "print(f\"Element-wise square root of matrix Y: {sqrt_Y}\")"
   ]
  },
  {
   "cell_type": "code",
   "execution_count": 51,
   "id": "6aa29f63-d1f2-409a-9543-19b2179a71cd",
   "metadata": {},
   "outputs": [
    {
     "name": "stdout",
     "output_type": "stream",
     "text": [
      "Dot product of matrix X and v: [29 67]\n"
     ]
    }
   ],
   "source": [
    "# Compute and print the dot product of the matrix X and vector v\n",
    "dotProduct_Xv = np.dot(X,v)\n",
    "print(f\"Dot product of matrix X and v: {dotProduct_Xv}\")"
   ]
  },
  {
   "cell_type": "code",
   "execution_count": 52,
   "id": "0713a864-021d-4032-abcd-fb1e748c7f61",
   "metadata": {},
   "outputs": [
    {
     "name": "stdout",
     "output_type": "stream",
     "text": [
      "[4 6]\n"
     ]
    }
   ],
   "source": [
    "# Compute and print the sum of each column of X\n",
    "sumX = np.sum(X, axis=0)\n",
    "print(sumX)"
   ]
  },
  {
   "cell_type": "code",
   "execution_count": 53,
   "id": "f448932c-24c7-47da-b570-df8c301e701c",
   "metadata": {},
   "outputs": [
    {
     "name": "stdout",
     "output_type": "stream",
     "text": [
      "[4 6]\n"
     ]
    }
   ],
   "source": [
    "# Compute and print the sum of each Row of X\n",
    "np.sum(X, axis=1)\n",
    "print(sumX)"
   ]
  },
  {
   "cell_type": "markdown",
   "id": "e5e5d5f9-37f4-4306-aa7d-c94ffb7ff0dc",
   "metadata": {},
   "source": [
    "## Task 3: Functions and Loops"
   ]
  },
  {
   "cell_type": "code",
   "execution_count": 54,
   "id": "50640f6e-21de-4d23-9b5c-379b06af7ef5",
   "metadata": {},
   "outputs": [],
   "source": [
    "#  Create a function ‘Compute’ that takes arguments, distance and time, calculate velocity\n",
    "def Compute(d,t):\n",
    "    v = d/t\n",
    "    return v"
   ]
  },
  {
   "cell_type": "code",
   "execution_count": 55,
   "id": "3bacec67-d27a-4ea8-b30c-2daa60566eaa",
   "metadata": {},
   "outputs": [
    {
     "name": "stdout",
     "output_type": "stream",
     "text": [
      "62.5\n"
     ]
    }
   ],
   "source": [
    "distance = 500\n",
    "time = 8\n",
    "velocity = Compute(distance, time)\n",
    "print(velocity)"
   ]
  },
  {
   "cell_type": "code",
   "execution_count": 59,
   "id": "32291ec0-b432-40bc-910a-2894f3e33e09",
   "metadata": {},
   "outputs": [
    {
     "name": "stdout",
     "output_type": "stream",
     "text": [
      "[0, 2, 4, 6, 8, 10, 12]\n"
     ]
    }
   ],
   "source": [
    "# Even Numbers List\n",
    "even_num = []\n",
    "for num in range(13):\n",
    "    if num%2 == 0:\n",
    "        even_num.append(num)\n",
    "print(even_num)"
   ]
  },
  {
   "cell_type": "markdown",
   "id": "c26c0d01-ff42-4550-84f7-6b28df9e01e6",
   "metadata": {},
   "source": [
    "## Task 4: Pandas"
   ]
  },
  {
   "cell_type": "code",
   "execution_count": 60,
   "id": "cec190df-c331-43bc-a5d4-844cfa2ac3e1",
   "metadata": {},
   "outputs": [
    {
     "name": "stdout",
     "output_type": "stream",
     "text": [
      "Requirement already satisfied: pandas in c:\\users\\muham\\anaconda3\\lib\\site-packages (2.2.2)Note: you may need to restart the kernel to use updated packages.\n",
      "\n",
      "Requirement already satisfied: numpy>=1.26.0 in c:\\users\\muham\\anaconda3\\lib\\site-packages (from pandas) (1.26.4)\n",
      "Requirement already satisfied: python-dateutil>=2.8.2 in c:\\users\\muham\\anaconda3\\lib\\site-packages (from pandas) (2.9.0.post0)\n",
      "Requirement already satisfied: pytz>=2020.1 in c:\\users\\muham\\anaconda3\\lib\\site-packages (from pandas) (2024.1)\n",
      "Requirement already satisfied: tzdata>=2022.7 in c:\\users\\muham\\anaconda3\\lib\\site-packages (from pandas) (2023.3)\n",
      "Requirement already satisfied: six>=1.5 in c:\\users\\muham\\anaconda3\\lib\\site-packages (from python-dateutil>=2.8.2->pandas) (1.16.0)\n"
     ]
    }
   ],
   "source": [
    "pip install pandas"
   ]
  },
  {
   "cell_type": "code",
   "execution_count": 61,
   "id": "9107b669-d653-4147-9526-e42e3e64196b",
   "metadata": {},
   "outputs": [],
   "source": [
    "import pandas as pd"
   ]
  },
  {
   "cell_type": "code",
   "execution_count": 67,
   "id": "e94e8ecb-ecfe-40ef-85ae-df5a3b50cba0",
   "metadata": {},
   "outputs": [],
   "source": [
    "# Create a DataFrame\n",
    "data = {\n",
    "    'C1': [1,2,3,5,5],\n",
    "    'C2': [6,7,5,4,8],\n",
    "    'C3': [7,9,8,6,5],\n",
    "    'C4': [7,5,2,8,8]\n",
    "}"
   ]
  },
  {
   "cell_type": "code",
   "execution_count": 68,
   "id": "965f9558-3384-46d8-ae36-81801e9589ed",
   "metadata": {},
   "outputs": [
    {
     "name": "stdout",
     "output_type": "stream",
     "text": [
      "   C1  C2  C3  C4\n",
      "0   1   6   7   7\n",
      "1   2   7   9   5\n",
      "2   3   5   8   2\n",
      "3   5   4   6   8\n",
      "4   5   8   5   8\n"
     ]
    }
   ],
   "source": [
    "# print(data)\n",
    "df = pd.DataFrame(data)\n",
    "print(df)"
   ]
  },
  {
   "cell_type": "code",
   "execution_count": 69,
   "id": "1e73139f-32de-4f1e-a664-783d37ac7450",
   "metadata": {},
   "outputs": [
    {
     "name": "stdout",
     "output_type": "stream",
     "text": [
      "Filtered DataFrame (Age > 30):\n",
      "   C1  C2  C3  C4\n",
      "1   2   7   9   5\n",
      "4   5   8   5   8\n"
     ]
    }
   ],
   "source": [
    "# Filtered DataFrame\n",
    "filtered_df = df[df['C2'] > 6]\n",
    "print(\"Filtered DataFrame (Age > 30):\")\n",
    "print(filtered_df)"
   ]
  },
  {
   "cell_type": "code",
   "execution_count": 70,
   "id": "0d07923c-701e-49a2-bcf7-0747d1a69092",
   "metadata": {},
   "outputs": [
    {
     "name": "stdout",
     "output_type": "stream",
     "text": [
      "   C1  C2  C3  C4\n",
      "0   1   6   7   7\n",
      "1   2   7   9   5\n"
     ]
    }
   ],
   "source": [
    "# Print only the first two rows\n",
    "print(df.head(2))"
   ]
  },
  {
   "cell_type": "code",
   "execution_count": 71,
   "id": "46e144d0-5670-4f8e-88c2-e9ea6dc41375",
   "metadata": {},
   "outputs": [
    {
     "name": "stdout",
     "output_type": "stream",
     "text": [
      "0    6\n",
      "1    7\n",
      "2    5\n",
      "3    4\n",
      "4    8\n",
      "Name: C2, dtype: int64\n"
     ]
    }
   ],
   "source": [
    "#  Print the second column.\n",
    "print(df['C2'])"
   ]
  },
  {
   "cell_type": "code",
   "execution_count": 83,
   "id": "0f64e124-dc85-464e-8792-f473ac0fe5f6",
   "metadata": {},
   "outputs": [
    {
     "name": "stdout",
     "output_type": "stream",
     "text": [
      "   C1  C2  B3  C4\n",
      "0   1   6   7   7\n",
      "1   2   7   9   5\n",
      "2   3   5   8   2\n",
      "3   5   4   6   8\n",
      "4   5   8   5   8\n"
     ]
    }
   ],
   "source": [
    "#  Change the name of the third column from ‘C3’ to ‘B3’\n",
    "df = df.rename(columns={'C3': 'B3'})\n",
    "print(df)"
   ]
  },
  {
   "cell_type": "code",
   "execution_count": 84,
   "id": "7a701f25-f022-4f07-bfc2-5ec4cb5e98c8",
   "metadata": {},
   "outputs": [],
   "source": [
    "# Add a new column to the dataframe and name it ‘Sum’.\n",
    "# Sum the entries of each row and add the result in the column ‘Sum’.\n",
    "df['sum'] = df.sum(axis=1)"
   ]
  },
  {
   "cell_type": "code",
   "execution_count": 85,
   "id": "b6c72d89-fe36-4964-b72b-49ba3c952ade",
   "metadata": {},
   "outputs": [
    {
     "name": "stdout",
     "output_type": "stream",
     "text": [
      "   C1  C2  B3  C4  sum\n",
      "0   1   6   7   7   21\n",
      "1   2   7   9   5   23\n",
      "2   3   5   8   2   18\n",
      "3   5   4   6   8   23\n",
      "4   5   8   5   8   26\n"
     ]
    }
   ],
   "source": [
    "print(df)"
   ]
  },
  {
   "cell_type": "code",
   "execution_count": 92,
   "id": "084a3cfa-748b-48f9-858c-ec259d1a66e6",
   "metadata": {},
   "outputs": [
    {
     "name": "stdout",
     "output_type": "stream",
     "text": [
      "    Gender  F_Color     B_Month  Weight\n",
      "0     Male    Black       March      77\n",
      "1     Male      Red       March      72\n",
      "2     Male    Black     October      53\n",
      "3   Female     Blue    February      63\n",
      "4     Male    black    October       80\n",
      "5   Female    Black    december      97\n",
      "6     Male   Orange      August      60\n",
      "7   Female      Red   September      59\n",
      "8     Male     Blue        July      60\n",
      "9     Male     Blue         May      58\n",
      "10  Female      Red    October       60\n",
      "11    Male    Black   September      65\n",
      "12    Male    Green    December      85\n",
      "13    Male    Black       April      72\n",
      "14    Male    Green    January       90\n",
      "15    Male   Yellow   November       90\n",
      "16    Male    Black      August      54\n",
      "17    Male    Black     January      82\n",
      "18    Male  Mustard   December       60\n",
      "19  Female    Black    October       76\n",
      "20    Male    Black   February       67\n",
      "21    Male   Yellow       April      74\n",
      "22    Male      Red  September       66\n"
     ]
    }
   ],
   "source": [
    "# Read CSV file\n",
    "path = r'C:\\Users\\muham\\Downloads\\hello_sample.csv'\n",
    "df2 = pd.read_csv(path)\n",
    "print(df2)"
   ]
  },
  {
   "cell_type": "code",
   "execution_count": 93,
   "id": "ed38d3aa-2fdf-4970-aeee-22b0c1abd470",
   "metadata": {},
   "outputs": [
    {
     "name": "stdout",
     "output_type": "stream",
     "text": [
      "   Gender F_Color     B_Month  Weight\n",
      "21   Male  Yellow       April      74\n",
      "22   Male     Red  September       66\n"
     ]
    }
   ],
   "source": [
    "print(df2.tail(2))"
   ]
  },
  {
   "cell_type": "code",
   "execution_count": 94,
   "id": "6969262b-f192-48e7-a026-88e15b16c503",
   "metadata": {},
   "outputs": [
    {
     "name": "stdout",
     "output_type": "stream",
     "text": [
      "<class 'pandas.core.frame.DataFrame'>\n",
      "RangeIndex: 23 entries, 0 to 22\n",
      "Data columns (total 4 columns):\n",
      " #   Column   Non-Null Count  Dtype \n",
      "---  ------   --------------  ----- \n",
      " 0   Gender   23 non-null     object\n",
      " 1   F_Color  23 non-null     object\n",
      " 2   B_Month  23 non-null     object\n",
      " 3   Weight   23 non-null     int64 \n",
      "dtypes: int64(1), object(3)\n",
      "memory usage: 868.0+ bytes\n"
     ]
    }
   ],
   "source": [
    "df2.info()"
   ]
  },
  {
   "cell_type": "code",
   "execution_count": 95,
   "id": "5ef1fa91-19ec-48cf-aa8e-80c10901cfac",
   "metadata": {},
   "outputs": [
    {
     "name": "stdout",
     "output_type": "stream",
     "text": [
      "(23, 4)\n"
     ]
    }
   ],
   "source": [
    "print(df2.shape)  #Returns a tuple - first value shows the number of rows and the second value show the number of columns"
   ]
  },
  {
   "cell_type": "code",
   "execution_count": 105,
   "id": "3016363b-0f7e-45d6-baa6-82e1c26a5161",
   "metadata": {},
   "outputs": [],
   "source": [
    "df_Sort = df2.sort_values(by= 'Weight')"
   ]
  },
  {
   "cell_type": "code",
   "execution_count": 106,
   "id": "f0c9b6a9-a9be-4032-8698-97b7fde1d47c",
   "metadata": {},
   "outputs": [
    {
     "name": "stdout",
     "output_type": "stream",
     "text": [
      "    Gender  F_Color     B_Month  Weight\n",
      "2     Male    Black     October      53\n",
      "16    Male    Black      August      54\n",
      "9     Male     Blue         May      58\n",
      "7   Female      Red   September      59\n",
      "18    Male  Mustard   December       60\n",
      "10  Female      Red    October       60\n",
      "6     Male   Orange      August      60\n",
      "8     Male     Blue        July      60\n",
      "3   Female     Blue    February      63\n",
      "11    Male    Black   September      65\n",
      "22    Male      Red  September       66\n",
      "20    Male    Black   February       67\n",
      "13    Male    Black       April      72\n",
      "1     Male      Red       March      72\n",
      "21    Male   Yellow       April      74\n",
      "19  Female    Black    October       76\n",
      "0     Male    Black       March      77\n",
      "4     Male    black    October       80\n",
      "17    Male    Black     January      82\n",
      "12    Male    Green    December      85\n",
      "14    Male    Green    January       90\n",
      "15    Male   Yellow   November       90\n",
      "5   Female    Black    december      97\n"
     ]
    }
   ],
   "source": [
    "print(df_Sort)"
   ]
  },
  {
   "cell_type": "code",
   "execution_count": 107,
   "id": "f0cd61e6-5eca-4609-ad06-39ac3f78bf66",
   "metadata": {},
   "outputs": [
    {
     "name": "stdout",
     "output_type": "stream",
     "text": [
      "    Gender  F_Color  B_Month  Weight\n",
      "0    False    False    False   False\n",
      "1    False    False    False   False\n",
      "2    False    False    False   False\n",
      "3    False    False    False   False\n",
      "4    False    False    False   False\n",
      "5    False    False    False   False\n",
      "6    False    False    False   False\n",
      "7    False    False    False   False\n",
      "8    False    False    False   False\n",
      "9    False    False    False   False\n",
      "10   False    False    False   False\n",
      "11   False    False    False   False\n",
      "12   False    False    False   False\n",
      "13   False    False    False   False\n",
      "14   False    False    False   False\n",
      "15   False    False    False   False\n",
      "16   False    False    False   False\n",
      "17   False    False    False   False\n",
      "18   False    False    False   False\n",
      "19   False    False    False   False\n",
      "20   False    False    False   False\n",
      "21   False    False    False   False\n",
      "22   False    False    False   False\n"
     ]
    }
   ],
   "source": [
    "# To check for missing values\n",
    "print(df.isnull())"
   ]
  },
  {
   "cell_type": "code",
   "execution_count": 108,
   "id": "e32bd449-4722-4feb-b8b5-1f7aba096e4e",
   "metadata": {},
   "outputs": [
    {
     "name": "stdout",
     "output_type": "stream",
     "text": [
      "DataFrame after dropping rows with missing values:\n",
      "    Gender  F_Color     B_Month  Weight\n",
      "0     Male    Black       March      77\n",
      "1     Male      Red       March      72\n",
      "2     Male    Black     October      53\n",
      "3   Female     Blue    February      63\n",
      "4     Male    black    October       80\n",
      "5   Female    Black    december      97\n",
      "6     Male   Orange      August      60\n",
      "7   Female      Red   September      59\n",
      "8     Male     Blue        July      60\n",
      "9     Male     Blue         May      58\n",
      "10  Female      Red    October       60\n",
      "11    Male    Black   September      65\n",
      "12    Male    Green    December      85\n",
      "13    Male    Black       April      72\n",
      "14    Male    Green    January       90\n",
      "15    Male   Yellow   November       90\n",
      "16    Male    Black      August      54\n",
      "17    Male    Black     January      82\n",
      "18    Male  Mustard   December       60\n",
      "19  Female    Black    October       76\n",
      "20    Male    Black   February       67\n",
      "21    Male   Yellow       April      74\n",
      "22    Male      Red  September       66\n"
     ]
    }
   ],
   "source": [
    "# To drop rows with missing values\n",
    "df_dropped_rows = df.dropna()\n",
    "print(\"DataFrame after dropping rows with missing values:\")\n",
    "print(df_dropped_rows)"
   ]
  },
  {
   "cell_type": "code",
   "execution_count": 109,
   "id": "2706a8cf-eaf3-4900-ba3e-64c7ffec4e22",
   "metadata": {},
   "outputs": [
    {
     "name": "stdout",
     "output_type": "stream",
     "text": [
      "DataFrame after dropping columns with missing values:\n",
      "    Gender  F_Color     B_Month  Weight\n",
      "0     Male    Black       March      77\n",
      "1     Male      Red       March      72\n",
      "2     Male    Black     October      53\n",
      "3   Female     Blue    February      63\n",
      "4     Male    black    October       80\n",
      "5   Female    Black    december      97\n",
      "6     Male   Orange      August      60\n",
      "7   Female      Red   September      59\n",
      "8     Male     Blue        July      60\n",
      "9     Male     Blue         May      58\n",
      "10  Female      Red    October       60\n",
      "11    Male    Black   September      65\n",
      "12    Male    Green    December      85\n",
      "13    Male    Black       April      72\n",
      "14    Male    Green    January       90\n",
      "15    Male   Yellow   November       90\n",
      "16    Male    Black      August      54\n",
      "17    Male    Black     January      82\n",
      "18    Male  Mustard   December       60\n",
      "19  Female    Black    October       76\n",
      "20    Male    Black   February       67\n",
      "21    Male   Yellow       April      74\n",
      "22    Male      Red  September       66\n"
     ]
    }
   ],
   "source": [
    "# To drop columns with missing values\n",
    "df_dropped_columns = df.dropna(axis=1)\n",
    "print(\"DataFrame after dropping columns with missing values:\")\n",
    "print(df_dropped_columns)"
   ]
  },
  {
   "cell_type": "code",
   "execution_count": null,
   "id": "db394fe5-3cdc-4082-8198-cc0c4c7f3300",
   "metadata": {},
   "outputs": [],
   "source": []
  }
 ],
 "metadata": {
  "kernelspec": {
   "display_name": "Python 3 (ipykernel)",
   "language": "python",
   "name": "python3"
  },
  "language_info": {
   "codemirror_mode": {
    "name": "ipython",
    "version": 3
   },
   "file_extension": ".py",
   "mimetype": "text/x-python",
   "name": "python",
   "nbconvert_exporter": "python",
   "pygments_lexer": "ipython3",
   "version": "3.12.4"
  }
 },
 "nbformat": 4,
 "nbformat_minor": 5
}
